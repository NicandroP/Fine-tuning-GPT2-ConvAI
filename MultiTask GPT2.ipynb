{
  "cells": [
    {
      "attachments": {},
      "cell_type": "markdown",
      "metadata": {
        "id": "aded2j4VSvo-"
      },
      "source": [
        "# **IMPORTS**"
      ]
    },
    {
      "cell_type": "code",
      "execution_count": 30,
      "metadata": {
        "colab": {
          "base_uri": "https://localhost:8080/",
          "height": 72
        },
        "id": "htwe8SrJWleH",
        "outputId": "2365f971-d55d-4e45-91cf-29b011810439"
      },
      "outputs": [
        {
          "name": "stdout",
          "output_type": "stream",
          "text": [
            "Drive already mounted at /content/drive; to attempt to forcibly remount, call drive.mount(\"/content/drive\", force_remount=True).\n",
            "<class 'dict'>\n"
          ]
        },
        {
          "data": {
            "application/vnd.google.colaboratory.intrinsic+json": {
              "type": "string"
            },
            "text/plain": [
              "'df = pd.read_csv(\\'/content/drive/MyDrive/dataset.csv\\')\\ndf = df.dropna()\\nprint(\"len df: \",len(df))\\ndf = df.sample(frac=0.01, random_state=42)'"
            ]
          },
          "execution_count": 30,
          "metadata": {},
          "output_type": "execute_result"
        }
      ],
      "source": [
        "! pip -q install transformers\n",
        "import pandas as pd\n",
        "import json\n",
        "import os\n",
        "import shutil\n",
        "import numpy as np\n",
        "import torch\n",
        "torch.cuda.empty_cache()\n",
        "import torch.nn as nn\n",
        "from torch.utils.data import Dataset\n",
        "from torch.utils.data import DataLoader\n",
        "from transformers import GPT2Tokenizer, GPT2DoubleHeadsModel, GPT2LMHeadModel, GPT2Model,AutoModelForCausalLM, AutoTokenizer\n",
        "from tqdm.notebook import tqdm\n",
        "from google.colab import drive\n",
        "import warnings\n",
        "warnings.filterwarnings('ignore')\n",
        "drive.mount('/content/drive')\n",
        "with open('/content/drive/MyDrive/personachat_self_original.json', \"r\", encoding=\"utf-8\") as f:\n",
        "    dataset = json.loads(f.read())\n",
        "print(type(dataset))\n",
        "\n",
        "\"\"\"df = pd.read_csv('/content/drive/MyDrive/dataset.csv')\n",
        "df = df.dropna()\n",
        "print(\"len df: \",len(df))\n",
        "df = df.sample(frac=0.01, random_state=42)\"\"\""
      ]
    },
    {
      "attachments": {},
      "cell_type": "markdown",
      "metadata": {
        "id": "_gy-eDB6Nv9Q"
      },
      "source": [
        "# **ARGS**"
      ]
    },
    {
      "cell_type": "code",
      "execution_count": 31,
      "metadata": {
        "id": "_Uve0smQNxZG"
      },
      "outputs": [],
      "source": [
        "class Args():\n",
        "    def __init__(self):\n",
        "        self.output_dir = 'output'\n",
        "        self.model_type = 'gpt2'\n",
        "        self.model_name_or_path = 'microsoft/DialoGPT-medium'\n",
        "        self.tokenizer_name = 'microsoft/DialoGPT-medium'\n",
        "        self.batch_size = 4\n",
        "        self.cache_dir = 'cached'\n",
        "        self.do_train = True\n",
        "        self.do_eval = True\n",
        "        self.learning_rate = 2e-5\n",
        "        self.weight_decay = 0.0\n",
        "        self.adam_epsilon = 1e-8\n",
        "        self.epochs = 1\n",
        "        self.overwrite_output_dir = True\n",
        "        self.seed = 42\n",
        "        self.input_size = 128\n",
        "        self.dataset_length = 10\n",
        "\n",
        "    def set_mean_length(self, value):\n",
        "        self.mean_length = value\n",
        "\n",
        "args = Args()"
      ]
    },
    {
      "attachments": {},
      "cell_type": "markdown",
      "metadata": {
        "id": "9ktTzVvCX9z5"
      },
      "source": [
        "# **PREPROCESSING**"
      ]
    },
    {
      "cell_type": "code",
      "execution_count": 43,
      "metadata": {
        "colab": {
          "base_uri": "https://localhost:8080/"
        },
        "id": "qGCA6mEdYJfZ",
        "outputId": "d5b643b3-a539-45e4-b394-138d1ceeaca5"
      },
      "outputs": [
        {
          "name": "stderr",
          "output_type": "stream",
          "text": [
            "Some weights of the model checkpoint at microsoft/DialoGPT-medium were not used when initializing GPT2Model: ['lm_head.weight']\n",
            "- This IS expected if you are initializing GPT2Model from the checkpoint of a model trained on another task or with another architecture (e.g. initializing a BertForSequenceClassification model from a BertForPreTraining model).\n",
            "- This IS NOT expected if you are initializing GPT2Model from the checkpoint of a model that you expect to be exactly identical (initializing a BertForSequenceClassification model from a BertForSequenceClassification model).\n"
          ]
        },
        {
          "name": "stdout",
          "output_type": "stream",
          "text": [
            "len encoded_input:  33\n",
            "len encoded_input_fake:  33\n",
            "bos token:  <|endoftext|>\n"
          ]
        }
      ],
      "source": [
        "tokenizer = GPT2Tokenizer.from_pretrained(\"microsoft/DialoGPT-medium\")\n",
        "#model = AutoModelForCausalLM.from_pretrained('/content/drive/MyDrive/modello/modello')\n",
        "model = GPT2Model.from_pretrained('microsoft/DialoGPT-medium')\n",
        "#tokenizer = AutoTokenizer.from_pretrained('microsoft/DialoGPT-medium')\n",
        "\n",
        "special_tokens = ['<SP1>', '<SP2>', '<PAD>']\n",
        "tokenizer.add_special_tokens({'additional_special_tokens': special_tokens})\n",
        "special_ids = tokenizer.convert_tokens_to_ids([\n",
        "        '<SP1>', '<SP2>', tokenizer.bos_token,\n",
        "        tokenizer.eos_token,  '<PAD>'])\n",
        "\n",
        "model.resize_token_embeddings(len(tokenizer))\n",
        "\n",
        "def concat_input(input_ids1, input_ids2):\n",
        "    return torch.cat((input_ids1, input_ids2), dim=0)\n",
        "\n",
        "#INIZIO PROCESSING\n",
        "\n",
        "def processing(datass):\n",
        "  personality=[]\n",
        "  utterances=[]\n",
        "  for i in range(args.dataset_length): #4000 ---> length encoded_input_fake:  14737\n",
        "    personality.append(dataset[datass][i]['personality'])\n",
        "    utterances.append(dataset[datass][i]['utterances'])\n",
        "  persona=[]\n",
        "  history=[]\n",
        "  spokerA=[]\n",
        "  spokerB_real=[]\n",
        "  spokerB_distract1=[]\n",
        "  for i in range(len(personality)-1):\n",
        "    for j in range(len(utterances[i])):\n",
        "      candidate = utterances[i][j]['candidates']\n",
        "      history1 = utterances[i][j]['history']\n",
        "      persona.append(personality[i])\n",
        "      history.append(history1)\n",
        "      spokerA.append(history1[-1])\n",
        "      spokerB_real.append(candidate[-1])\n",
        "      spokerB_distract1.append(candidate[-2])\n",
        "\n",
        "\n",
        "  def make_input(persona, spokerA, spokerB):\n",
        "    input=[]\n",
        "    for i in range(len(persona)):\n",
        "      ids=[]\n",
        "\n",
        "      spA='<SP1> '+spokerA[i]+tokenizer.eos_token\n",
        "      spB='<SP2> '+spokerB[i]+tokenizer.eos_token\n",
        "      ids.append(spA)\n",
        "      ids.append(spB)\n",
        "      input.append(ids)\n",
        "\n",
        "    return input\n",
        "\n",
        "  input1=make_input(persona,spokerA,spokerB_real)\n",
        "  input_fake=make_input(persona,spokerA,spokerB_distract1)\n",
        "\n",
        "\n",
        "  def unifica_coppie(array):\n",
        "      nuovo_array = []\n",
        "      for i in range(0, len(array)-1, 2):\n",
        "          coppia1 = array[i]\n",
        "          coppia2 = array[i+1]\n",
        "          elemento_unificato = coppia1 + coppia2\n",
        "          nuovo_array.append(elemento_unificato)\n",
        "      return nuovo_array\n",
        "\n",
        "  input2=unifica_coppie(input1)\n",
        "  input2_fake=unifica_coppie(input_fake)\n",
        "\n",
        "\n",
        "\n",
        "  def make_input_ids(input):\n",
        "    encoded_input=[]\n",
        "    for x in input:\n",
        "      x=\" \".join(x)\n",
        "      x=tokenizer.encode(x)\n",
        "      leng=len(x)\n",
        "      x=x+tokenizer.encode('<PAD>')*(args.input_size-leng)\n",
        "      encoded_input.append(x)\n",
        "    return torch.tensor(encoded_input)\n",
        "\n",
        "  encoded_input=make_input_ids(input2)\n",
        "  print(\"len encoded_input: \",len(encoded_input))\n",
        "  #print(encoded_input[0])\n",
        "  encoded_input_fake=make_input_ids(input2_fake)\n",
        "  print(\"len encoded_input_fake: \",len(encoded_input_fake))\n",
        "\n",
        "  cls_label_R = torch.ones(size=(encoded_input.size(0),1), dtype=torch.long)\n",
        "  cls_label_F1 = torch.zeros(size=(encoded_input_fake.size(0),1), dtype=torch.long)\n",
        "\n",
        "  fin_input = concat_input(encoded_input, encoded_input_fake)\n",
        "  fin_label = concat_input(cls_label_R , cls_label_F1)\n",
        "\n",
        "  return fin_input, fin_label\n",
        "#FINE PROCESSING\n",
        "\n",
        "fin_input, fin_label=processing(\"train\")\n",
        "\n",
        "\"\"\"print(fin_input[0])\n",
        "print(fin_label)\n",
        "\"\"\"\n",
        "#<PAD>[50259]\n",
        "#<SP1> [50257]\n",
        "#<SP2> [50258]\n",
        "# eos 50256\n",
        "\n",
        "print(\"bos token: \",tokenizer.eos_token)\n",
        "\n",
        "def make_token_type_ids(input_str):\n",
        "  x=0\n",
        "  #input_str=input_str.view(-1)\n",
        "  tok=[]\n",
        "  for i in range(len(input_str)):\n",
        "    if input_str[i]==50257:\n",
        "      x=1\n",
        "    if input_str[i]==50258:\n",
        "      x=2\n",
        "    if input_str[i]==50259:\n",
        "      x=3\n",
        "    tok.append(x)\n",
        "\n",
        "  return torch.tensor(tok)\n",
        "\n",
        "def make_LMlabel(input_ids):\n",
        "    input=input_ids.squeeze()\n",
        "    label=torch.zeros(size=input.size(), dtype=torch.long)\n",
        "    for i in range(len(input)-1):\n",
        "      label[i]=input[i+1]\n",
        "    if input[len(input)-1] == 50259:\n",
        "      label[len(input)-1]=50259\n",
        "    else: label[len(input)-1]=50256\n",
        "\n",
        "    return label.unsqueeze(0)"
      ]
    },
    {
      "attachments": {},
      "cell_type": "markdown",
      "metadata": {
        "id": "HSeTa6j5YvZo"
      },
      "source": [
        "# **DATALOADER**"
      ]
    },
    {
      "cell_type": "code",
      "execution_count": 44,
      "metadata": {
        "colab": {
          "base_uri": "https://localhost:8080/"
        },
        "id": "sR3lROnuYyaQ",
        "outputId": "07042cd1-52de-45d5-ad8b-0e3317195721"
      },
      "outputs": [
        {
          "name": "stdout",
          "output_type": "stream",
          "text": [
            "66\n"
          ]
        }
      ],
      "source": [
        "#crea un dataset personalizzato per l'addestramento del modello, prende in input input_ids(identificatori di input)  e\n",
        "#cls_label (etichette di classificazione)\n",
        "\n",
        "class Custom_Dataset(Dataset):\n",
        "  def __init__(self, input_ids,cls_label):\n",
        "    self.input_ids = input_ids\n",
        "    self.cls_label = cls_label\n",
        "  def __len__(self):\n",
        "    return len(self.input_ids)\n",
        "\n",
        "  def __getitem__(self, idx):\n",
        "    input_ids = self.input_ids[idx]\n",
        "    token_type_ids = make_token_type_ids(self.input_ids[idx])\n",
        "    LM_label = make_LMlabel(self.input_ids[idx])\n",
        "    cls_label = self.cls_label[idx]\n",
        "\n",
        "    return input_ids, token_type_ids, LM_label, cls_label\n",
        "\n",
        "chat_dataset = Custom_Dataset(fin_input, fin_label)\n",
        "\n",
        "print(len(chat_dataset))\n",
        "\n",
        "batch_size=args.batch_size\n",
        "dataloader = DataLoader(chat_dataset, batch_size=batch_size, shuffle=True,drop_last=True)"
      ]
    },
    {
      "attachments": {},
      "cell_type": "markdown",
      "metadata": {
        "id": "39IQh3IhY8w7"
      },
      "source": [
        "# **MODEL**"
      ]
    },
    {
      "cell_type": "code",
      "execution_count": 38,
      "metadata": {
        "colab": {
          "base_uri": "https://localhost:8080/"
        },
        "id": "vlgwJEzZY-c2",
        "outputId": "867b20bf-d893-4653-cc74-edbba2bdc5bd"
      },
      "outputs": [
        {
          "name": "stdout",
          "output_type": "stream",
          "text": [
            "Device: cuda\n"
          ]
        }
      ],
      "source": [
        "device = torch.device('cuda' if torch.cuda.is_available() else 'cpu')\n",
        "print(\"Device: {}\".format(device))\n",
        "class chatbot_model(nn.Module):\n",
        "  def __init__(self):\n",
        "    super(chatbot_model, self).__init__()\n",
        "    self.model = model\n",
        "    self.drop = nn.Dropout(0.2)\n",
        "    self.CL = nn.Linear(1024*2,1)\n",
        "    self.LM = nn.Linear(1024,50260) #output del language modeling (con funzione di attivazione softmax) restituisce un tensore\n",
        "    # con dimensione finale 50250 che è il numero di token nel vocabolario per il language modeling(si restituisce quello con prob. maggiore)\n",
        "\n",
        "  def forward(self, input,token):\n",
        "    out = self.model(input,token_type_ids= token) #tensore che rappresenta le rappresentazioni latenti delle parole di input\n",
        "    x = out[0]\n",
        "    x = self.drop(x)\n",
        "    avgv=torch.mean(x,1)\n",
        "    maxv,_=torch.max(x,1)\n",
        "    clss=torch.cat((avgv,maxv),1)\n",
        "    clss = self.CL(clss) #fornisce un valore di output che ci da la probabilità che la risposta generata sia un distrattore o sia corretta\n",
        "    x = self.LM(x)\n",
        "    return x, clss\n",
        "\n",
        "chatbot=chatbot_model() #model\n",
        "chatbot=chatbot.to(device)"
      ]
    },
    {
      "attachments": {},
      "cell_type": "markdown",
      "metadata": {
        "id": "8X1RXpRLZGCL"
      },
      "source": [
        "# **TRAIN**"
      ]
    },
    {
      "cell_type": "code",
      "execution_count": 39,
      "metadata": {
        "id": "Ohs4gCCvZISi"
      },
      "outputs": [],
      "source": [
        "from tqdm import tqdm\n",
        "import matplotlib.pyplot as plt\n",
        "import warnings\n",
        "warnings.filterwarnings('always')\n",
        "\n",
        "def train_one_epoch(data_loader, model, optimizer, device,epochs):\n",
        "\n",
        "  model.train()\n",
        "  #tk0 = tqdm(data_loader, total=len(data_loader))#barra di avanzamento durante le iterazioni del training\n",
        "  total_loss = 0.0\n",
        "  lm_loss_values = []\n",
        "  cls_loss_values = []\n",
        "  total_loss1 = []\n",
        "  print(\"Lunghezza dataset train: \",len(data_loader))\n",
        "  for batch in tqdm(data_loader, desc=\"Training\"):#iterazioni attraverso data_loader\n",
        "      input_ids, token_type_ids, LM_label, CLS_label = batch #estrae i tensori di input dal batch\n",
        "      input_ids = input_ids.to(device, dtype=torch.long) #id degli input\n",
        "      token_type_ids = token_type_ids.to(device, dtype=torch.long)\n",
        "      LM_label = LM_label.to(device, dtype=torch.long)\n",
        "      CLS_label = CLS_label.to(device, dtype=torch.float) #etichette per l'addestramento del modello di classificazione\n",
        "\n",
        "      model.zero_grad() #azzeramento dei gradienti prima di eseguire il passaggio all'indietro per evitare che si accumulino\n",
        "      LM_logits, CLS_logits = model(input_ids, token_type_ids) #esegue il forward del modello e restituisce i logits per il LM e il CLS\n",
        "      LM_logits = LM_logits.view(-1, 50260)\n",
        "      LM_label = LM_label.view(-1)\n",
        "      #loss_LM = nn.CrossEntropyLoss()(LM_logits, LM_label) #loss del modello di linguaggio\n",
        "      loss_LM=loss_LM = nn.CrossEntropyLoss()(LM_logits, LM_label)\n",
        "      loss_CLS = nn.BCEWithLogitsLoss()(CLS_logits, CLS_label)*2 #loss per la classificazione\n",
        "      lm_loss_values.append(loss_LM.item())\n",
        "      cls_loss_values.append(loss_CLS.item())\n",
        "      #BCEWithLogitsLoss funzione di loss comunemente usata per problemi di classificazione binaria, questa loss combina la funzione sigmoide\n",
        "      #e la loss di entropia binaria. Accetta due parametri,  i logits predetti e le etichette reali. I logits sono i valori di output prodotti\n",
        "      # prima dell'attivazione, le etichette reali sono valori binari (0,1) che indicano le classi di riferimento per l'addestramento\n",
        "\n",
        "      loss = loss_LM + loss_CLS #calcolo della loss totale combinando le due loss\n",
        "      total_loss1.append(loss.item())\n",
        "      total_loss += loss.item() #aggiunge il valore della loss totale al valore accumulato\n",
        "      \n",
        "      #per entrambe le loss esegui il passaggio all'indietro per calcolare i gradienti rispetto ai pesi del modello\n",
        "      loss_LM.backward(retain_graph=True)\n",
        "      loss_CLS.backward()\n",
        "      optimizer.step() #aggiorna i pesi del modello in modo da ridurre la loss\n",
        "      optimizer.zero_grad() #azzeramento dei gradienti\n",
        "\n",
        "  print(f\"loss:{loss}\")\n",
        "\n",
        "  avg_train_loss = total_loss / len(data_loader)\n",
        "  print(\" Average training loss: {0:.2f}\".format(avg_train_loss))\n",
        "\n",
        "  plt.figure(figsize=(8, 4))\n",
        "  plt.plot(lm_loss_values, label=\"LM Loss\")\n",
        "  plt.plot(cls_loss_values, label=\"CLS Loss\")\n",
        "  plt.xlabel(\"Iterations(batch)\")\n",
        "  plt.ylabel(\"Loss\")\n",
        "  plt.legend()\n",
        "  plt.show()\n",
        "\n",
        "  plt.figure(figsize=(8, 4))\n",
        "  plt.plot(total_loss1, label=\"Total Loss\")\n",
        "  plt.xlabel(\"Iterations(batch)\")\n",
        "  plt.ylabel(\"Loss\")\n",
        "  plt.legend()\n",
        "  plt.show()\n",
        "\n",
        "\n",
        "#funzione fit per addestrare il modello\n",
        "def fit(train_dataloader, EPOCHS=args.epochs):\n",
        "  #optimizer = torch.optim.AdamW(chatbot.parameters(),lr=lr) #optimizer\n",
        "\n",
        "  lr = args.learning_rate\n",
        "  no_decay = [\"bias\", \"LayerNorm.weight\"]#parametri dei modelli che non devono essere soggetti a decay durante la discesa del gradiente.\n",
        "  # raggruppa i parametri del modello in base a se necessitano o meno di weight decay.\n",
        "  #il weight decay è una tecnica di regolarizzazione utilizzata per prevenire l'overfitting del modello durante l'addestramento.\n",
        "  #consiste nell'aggiungere una penalità alla funzione di loss in base alla norma L2 dei pesi del modello.\n",
        "  optimizer_grouped_parameters = [\n",
        "      {\n",
        "          \"params\": [p for n, p in model.named_parameters() if not any(nd in n for nd in no_decay)],\n",
        "          \"weight_decay\": args.weight_decay,\n",
        "      },\n",
        "      {\"params\": [p for n, p in model.named_parameters() if any(nd in n for nd in no_decay)], \"weight_decay\": 0.0},\n",
        "  ]\n",
        "  optimizer = torch.optim.AdamW(optimizer_grouped_parameters, lr=lr, eps=args.adam_epsilon)#algoritmo di ottimizzazione basato su Adam che applica weight decay solo sui parametri che richiedono l'applicazione di questo tipo di regolarizzazione.\n",
        "  # definisce uno scheduler di tipo lineare con warmup, che aumenta gradualmente il tasso di apprendimento nei primi num_warmup_steps passi di addestramento e lo riduce linearmente fino a 0 in corrispondenza dell'ultimo passo.\n",
        "\n",
        "  for i in range(EPOCHS):\n",
        "    print(f\"EPOCH:{i+1}/\",EPOCHS)\n",
        "    print('TRAIN')\n",
        "    train_one_epoch(train_dataloader, chatbot, optimizer, device,EPOCHS)\n",
        "\n",
        "    import os\n",
        "    # Verifica se il file esiste\n",
        "    if os.path.exists(\"output.pt\"):\n",
        "        # Elimina il file\n",
        "        os.remove(\"output.pt\")\n",
        "        print(\"Il file è stato eliminato con successo ed è stato salvato il modello aggiornato.\")\n",
        "    else:\n",
        "        print(\"Il file non esiste.\")\n",
        "    torch.save(chatbot ,\"output.pt\") #dopo aver completato n epoche, il modello viene salvato\n"
      ]
    },
    {
      "attachments": {},
      "cell_type": "markdown",
      "metadata": {
        "id": "ZM6YnFw5Y3k-"
      },
      "source": [
        "# **TESTING**"
      ]
    },
    {
      "cell_type": "code",
      "execution_count": 56,
      "metadata": {
        "id": "bqXh99rQY5Rg"
      },
      "outputs": [],
      "source": [
        "def eval():\n",
        "  fin_input_test, fin_label_test=processing(\"valid\")\n",
        "  chat_dataset_test = Custom_Dataset(fin_input_test, fin_label_test)\n",
        "  print(\"Lunghezza dataset test\",len(chat_dataset_test))\n",
        "\n",
        "  batch_size_test=args.batch_size\n",
        "  dataloader_test = DataLoader(chat_dataset_test, batch_size=batch_size_test, shuffle=True,drop_last=True)\n",
        "  print(\"Lunghezza dataset test\",len(dataloader_test))\n",
        "  chatbot.eval()\n",
        "  eval_loss = 0.0\n",
        "  nb_eval_steps = 0\n",
        "  total_loss1 = []\n",
        "  total_loss = 0.0\n",
        "\n",
        "\n",
        "  for batch in tqdm(dataloader_test, desc=\"Evaluating\"):#iterazioni attraverso data_loader\n",
        "      input_ids, token_type_ids, LM_label, CLS_label = batch #estrae i tensori di input dal batch\n",
        "      input_ids = input_ids.to(device, dtype=torch.long) #id degli inputFlen enc\n",
        "      token_type_ids = token_type_ids.to(device, dtype=torch.long)\n",
        "      LM_label = LM_label.to(device, dtype=torch.long)\n",
        "      CLS_label = CLS_label.to(device, dtype=torch.float) #etichette per l'addestramento del modello di classificazione\n",
        "\n",
        "      with torch.no_grad():#disabilita il calcolo e l'accumulo del gradiente durante la fase di backward propagation del modello\n",
        "\n",
        "        LM_logits, CLS_logits = chatbot(input_ids, token_type_ids) #esegue il forward del modello e restituisce i logits per il LM e il CLS\n",
        "        LM_logits = LM_logits.view(-1, 50260)\n",
        "        LM_label = LM_label.view(-1)\n",
        "        #loss_LM = nn.CrossEntropyLoss()(LM_logits, LM_label) #loss del modello di linguaggio\n",
        "        loss_LM=loss_LM = nn.CrossEntropyLoss()(LM_logits, LM_label)\n",
        "        loss_CLS = nn.BCEWithLogitsLoss()(CLS_logits, CLS_label)*2 #loss per la classificazione\n",
        "        #BCEWithLogitsLoss funzione di loss comunemente usata per problemi di classificazione binaria, questa loss combina la funzione sigmoide\n",
        "        #e la loss di entropia binaria. Accetta due parametri,  i logits predetti e le etichette reali. I logits sono i valori di output prodotti\n",
        "        # prima dell'attivazione, le etichette reali sono valori binari (0,1) che indicano le classi di riferimento per l'addestramento\n",
        "\n",
        "        loss = loss_LM + loss_CLS #calcolo della loss totale combinando le due loss\n",
        "        total_loss1.append(loss.item())\n",
        "        total_loss += loss.item()\n",
        "\n",
        "      nb_eval_steps += 1\n",
        "  test_loss=total_loss/nb_eval_steps\n",
        "  perplexity = torch.exp(torch.tensor(eval_loss))\n",
        "  result = {\"perplexity\": perplexity.item()}\n",
        "  return result"
      ]
    },
    {
      "attachments": {},
      "cell_type": "markdown",
      "metadata": {
        "id": "UnkMPJmiZM7V"
      },
      "source": [
        "# **START TRAINING**"
      ]
    },
    {
      "cell_type": "code",
      "execution_count": 54,
      "metadata": {
        "id": "8o1VK7I0ZSuK"
      },
      "outputs": [],
      "source": [
        "import warnings\n",
        "warnings.filterwarnings('ignore')\n",
        "#fit(dataloader)\n",
        "def main():\n",
        "  fit(dataloader)\n",
        "\n",
        "  if args.do_eval:\n",
        "        print(\"##Start evaluation##\")\n",
        "        result = eval()\n",
        "        print(\"Testing results: \",result)"
      ]
    },
    {
      "attachments": {},
      "cell_type": "markdown",
      "metadata": {
        "id": "wMp49tleeKiQ"
      },
      "source": [
        "# **MAIN**"
      ]
    },
    {
      "cell_type": "code",
      "execution_count": 57,
      "metadata": {
        "colab": {
          "base_uri": "https://localhost:8080/",
          "height": 1000
        },
        "id": "0v3Lk31JeLsg",
        "outputId": "cee66f21-cf05-463d-b4af-1974c3de37b9"
      },
      "outputs": [
        {
          "name": "stdout",
          "output_type": "stream",
          "text": [
            "EPOCH:1/ 1\n",
            "TRAIN\n",
            "Lunghezza dataset train:  16\n"
          ]
        },
        {
          "name": "stderr",
          "output_type": "stream",
          "text": [
            "Training: 100%|██████████| 16/16 [00:09<00:00,  1.67it/s]\n"
          ]
        },
        {
          "name": "stdout",
          "output_type": "stream",
          "text": [
            "loss:6.420151233673096\n",
            " Average training loss: 6.50\n"
          ]
        },
        {
          "data": {
            "image/png": "[encoded data removed]",
            "text/plain": [
              "<Figure size 800x400 with 1 Axes>"
            ]
          },
          "metadata": {},
          "output_type": "display_data"
        },
        {
          "data": {
            "image/png": "[encoded data removed]",
            "text/plain": [
              "<Figure size 800x400 with 1 Axes>"
            ]
          },
          "metadata": {},
          "output_type": "display_data"
        },
        {
          "name": "stdout",
          "output_type": "stream",
          "text": [
            "Il file è stato eliminato con successo ed è stato salvato il modello aggiornato.\n",
            "##Start evaluation##\n",
            "len encoded_input:  33\n",
            "len encoded_input_fake:  33\n",
            "Lunghezza dataset test 66\n",
            "Lunghezza dataset test 16\n"
          ]
        },
        {
          "name": "stderr",
          "output_type": "stream",
          "text": [
            "Evaluating: 100%|██████████| 16/16 [00:02<00:00,  7.09it/s]\n"
          ]
        },
        {
          "name": "stdout",
          "output_type": "stream",
          "text": [
            "Testing results:  {'perplexity': 1.0}\n"
          ]
        }
      ],
      "source": [
        "import warnings\n",
        "warnings.filterwarnings('ignore')\n",
        "main()"
      ]
    },
    {
      "attachments": {},
      "cell_type": "markdown",
      "metadata": {
        "id": "utg3vn1sb9e7"
      },
      "source": [
        "# **POSTPROCESSING**"
      ]
    },
    {
      "cell_type": "code",
      "execution_count": null,
      "metadata": {
        "id": "kLksibU3b_o1"
      },
      "outputs": [],
      "source": [
        "# implementazione del cahtbbot per generare risposte in base alla personaliotà e alla cronologia della conversazione fornite\n",
        "# il chatbot genera testo telezionando i token successivi in base alle probabilità predette dal modello, viene anche\n",
        "# calcolata una previsione di classificaizone binaria per valutare la coerenza delle risposte generate\n",
        "# l'interazione avviene attraverso la funzione interact\n",
        "\n",
        "#<PAD>[50259]\n",
        "#<SP1> [50257]\n",
        "#<SP2> [50258]\n",
        "# eos 50256\n",
        "\n",
        "def make_input_chat(input): #prende una lista di input e li converte in formato adatto all'interazione con il chatbot\n",
        "  input_ids = []\n",
        "  ids = []\n",
        "  for j in range(len(input)):\n",
        "      ids += tokenizer.encode(input[j])\n",
        "  ids = ids+[50258]\n",
        "  input_ids.append(ids)\n",
        "  return torch.tensor(input_ids)\n",
        "\n",
        "def choose_from_top(probs, n=5): #restituisce l'indice del token successivo selezionato casualmente dai primi n token\n",
        "    ind = np.argpartition(probs, -n)[-n:]\n",
        "    top_prob = probs[ind]\n",
        "    top_prob = top_prob / np.sum(top_prob) # Normalize\n",
        "    choice = np.random.choice(n, 1, p = top_prob)\n",
        "    token_id = ind[choice][0]\n",
        "    return int(token_id)\n",
        "\n",
        "def find_num(aa,num): #restituisce il numero di occorrenze del numero (num) all'interno del tensore (aa), serve per contare il numero di\n",
        "                      #occorrenze di token speciali\n",
        "  s=0\n",
        "  for i in range(len(aa.view(-1))):\n",
        "    aa=aa.view(-1)\n",
        "    #print(aa.cpu().detach().numpy().tolist()[i])\n",
        "\n",
        "    if (aa.cpu().detach().numpy().tolist()[i]) == (num):\n",
        "\n",
        "      s=s+1\n",
        "\n",
        "  return s\n",
        "\n",
        "def generate_text(hidden_input, token_types, model):\n",
        "    current_hidden = hidden_input\n",
        "    sequence_length = (current_hidden.size(-1))\n",
        "    model.eval()\n",
        "    with torch.no_grad():\n",
        "        while count_tokens(current_hidden, 50259) < 1:\n",
        "            outputs = model(current_hidden, token_types)\n",
        "            hidden_logits, class_logits = outputs\n",
        "            softmax_logits = torch.softmax(hidden_logits[0, -1], dim=0)\n",
        "            next_token_id = choose_from_top(softmax_logits.to('cpu').numpy(), n=3)\n",
        "\n",
        "            if next_token_id == 50259:\n",
        "                token_types = torch.cat([token_types, torch.ones((1, 1)).long().to(device) * 2], dim=1)\n",
        "            else:\n",
        "                if count_tokens(current_hidden, 50258) > count_tokens(current_hidden, 50257):\n",
        "                    if next_token_id == 50258:\n",
        "                        next_token_id = 50257\n",
        "                        token_types = torch.cat([token_types, torch.ones((1, 1)).long().to(device) * 1], dim=1)\n",
        "                    else:\n",
        "                        token_types = torch.cat([token_types, torch.ones((1, 1)).long().to(device) * 2], dim=1)\n",
        "                elif count_tokens(current_hidden, 50258) <= count_tokens(current_hidden, 50257):\n",
        "                    if next_token_id == 50257:\n",
        "                        next_token_id = 50258\n",
        "                        token_types = torch.cat([token_types, torch.ones((1, 1)).long().to(device) * 2], dim=1)\n",
        "                    else:\n",
        "                        token_types = torch.cat([token_types, torch.ones(1, 1).long().to(device) * 1], dim=1)\n",
        "\n",
        "            current_hidden = torch.cat([current_hidden, torch.ones((1, 1)).long().to(device) * next_token_id], dim=1)\n",
        "\n",
        "            if current_hidden.size(-1) - sequence_length > 30:\n",
        "                break\n",
        "\n",
        "        output_list = list(current_hidden.squeeze().to('cpu').numpy())\n",
        "        output_text = tokenizer.decode(output_list)\n",
        "\n",
        "    return output_text, current_hidden, token_types, sequence_length\n",
        "\n",
        "def cls_text(cur_ids, token_type_ids, model, list_cls): #calcoal la previsione di classificazione binaria del modello\n",
        "    #per il testo generato fino a quel punto, calcola le previsioni utilizzando il modello e la funzione di attivazione sigmoidale\n",
        "\n",
        "    model.eval()\n",
        "    with torch.no_grad():\n",
        "      _, cls_outputs = model(cur_ids, token_type_ids)\n",
        "      cls = nn.Sigmoid()(cls_outputs)\n",
        "      list_cls.append(cls)\n",
        "\n",
        "    return list_cls\n",
        "\n",
        "def chat(history, tokenizer, model=chatbot, num=3): # gestisce l'intera conversazione\n",
        "    #una cronologia, un tokenizer e un modello di chatbot. Prepara l'input concatenando queste cose, quindi chiama make_input_chat e\n",
        "    # make_token_type_ids per ottenere i tensori di input e i toke di tipo. Utilizza il modello per generare testi e calcola le previsioni\n",
        "    # di classificazione per ognuno di essi, restituisce il testo generato con la previsione di CLS più alta.\n",
        "\n",
        "  #input_str\n",
        "  speechs = []\n",
        "  list_cls = []\n",
        "  input=[]\n",
        "  for k in range(len(history)):\n",
        "      if k % 2 ==0:\n",
        "        input.append('<SP1> '+history[k])\n",
        "      else: input.append('<SP2> '+history[k])\n",
        "\n",
        "  print(\"input: \",input)\n",
        "  input_str = make_input_chat(input)\n",
        "  input_str2=input_str.view(-1)\n",
        "  token_type_ids = make_token_type_ids(input_str2)\n",
        "  input_str = input_str.to(device)\n",
        "  token_type_ids = token_type_ids.view(1,-1).to(device)\n",
        "\n",
        "  for i in range(num):\n",
        "    o, c, t, l = generate_text(input_str,token_type_ids, chatbot)\n",
        "    speechs.append(o)\n",
        "    list_cls = cls_text(c, t, chatbot, list_cls)\n",
        "\n",
        "  print(\"speechs: \",speechs)\n",
        "  \"\"\"print(type(list_cls))\n",
        "  print(type(list_cls[0]))\n",
        "  print(len(list_cls))\n",
        "  print(list_cls[0])\"\"\"\n",
        "  list_cls = np.array([tensor.item() for tensor in list_cls])\n",
        "  idx = np.argmax(list_cls)\n",
        "  speech = speechs[idx]\n",
        "\n",
        "  return speech, l\n",
        "\n",
        "def interact(model): # permette l'interazione dell utente con il chatbot\n",
        "  history = []\n",
        "  step=0\n",
        "  #chatbo=chatbot_model()\n",
        "  #chatbo=chatbo.to(device)\n",
        "  #model = torch.load(\"output/model.pt\")\n",
        "  chatting=True\n",
        "  while chatting:\n",
        "        raw_text = input(\">>>You: \")\n",
        "        while not raw_text:\n",
        "            print('Prompt should not be empty!')\n",
        "            raw_text = input(\">>>You \")\n",
        "        if raw_text.lower().strip() in ['bye','quit','exit']:\n",
        "          print(\">>Bot: See you soon!\")\n",
        "          step=0\n",
        "          chatting=False\n",
        "        else:\n",
        "\n",
        "          if step>=2:\n",
        "            history = history[2:]\n",
        "          history.append(raw_text)\n",
        "          print(\"History: \",history)\n",
        "          with torch.no_grad():\n",
        "              out_ids, l = chat(history, tokenizer, model)\n",
        "              print(\"Out_ids: \",out_ids)\n",
        "              print(\"l: \",l)\n",
        "          out = tokenizer.encode(out_ids)\n",
        "          spoker = out[l:]\n",
        "          out_text = tokenizer.decode(out, skip_special_tokens=True)\n",
        "          spoker_text = tokenizer.decode(spoker, skip_special_tokens=True)\n",
        "          history.append(spoker_text)\n",
        "          print(\"History after append(spoker_text): \",history)\n",
        "\n",
        "          #print(out_text)\n",
        "          print(\">>>Chatbot: \",spoker_text)\n",
        "          step+=1\n",
        "\n",
        "#interact(personal, chatbot)"
      ]
    },
    {
      "attachments": {},
      "cell_type": "markdown",
      "metadata": {
        "id": "QcpVAiUXowBm"
      },
      "source": [
        "# **INTERACTION**"
      ]
    },
    {
      "cell_type": "code",
      "execution_count": null,
      "metadata": {
        "id": "dy8nvZszoxtN"
      },
      "outputs": [],
      "source": [
        "import warnings\n",
        "warnings.filterwarnings(\"ignore\")\n",
        "#model2 = torch.load(\"/content/drive/MyDrive/transfo/transfer_outputmodel_1.pt\")\n",
        "#chatbot=model2\n",
        "interact(chatbot)\n",
        "#<PAD>[50259]\n",
        "#<SP1> [50257]\n",
        "#<SP2> [50258]\n",
        "# eos 50256"
      ]
    }
  ],
  "metadata": {
    "accelerator": "GPU",
    "colab": {
      "provenance": []
    },
    "kernelspec": {
      "display_name": "Python 3",
      "name": "python3"
    },
    "language_info": {
      "name": "python"
    }
  },
  "nbformat": 4,
  "nbformat_minor": 0
}
